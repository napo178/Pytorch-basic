{
 "cells": [
  {
   "cell_type": "markdown",
   "metadata": {},
   "source": [
    "# Linear Regression Problems"
   ]
  },
  {
   "cell_type": "code",
   "execution_count": 67,
   "metadata": {},
   "outputs": [
    {
     "data": {
      "image/png": "[encoded data removed]",
      "text/plain": [
       "<Figure size 432x288 with 1 Axes>"
      ]
     },
     "metadata": {},
     "output_type": "display_data"
    }
   ],
   "source": [
    "import numpy as np\n",
    "import matplotlib.pyplot as plt\n",
    "\n",
    "x = [1, 5, 10, 10, 25, 50, 70, 75, 100,]\n",
    "y = [0, 0, 0, 0, 0, 1, 1, 1, 1]\n",
    "\n",
    "colors = np.random.rand(len(x))\n",
    "plt.plot(np.unique(x), np.poly1d(np.polyfit(x, y, 1))(np.unique(x)))\n",
    "plt.ylabel(\"Fever\")\n",
    "plt.xlabel(\"Temperature\")\n",
    "\n",
    "plt.scatter(x, y, c=colors, alpha=0.5)\n",
    "plt.show()"
   ]
  },
  {
   "cell_type": "code",
   "execution_count": 68,
   "metadata": {},
   "outputs": [
    {
     "data": {
      "image/png": "[encoded data removed]",
      "text/plain": [
       "<Figure size 432x288 with 1 Axes>"
      ]
     },
     "metadata": {},
     "output_type": "display_data"
    }
   ],
   "source": [
    "import numpy as np\n",
    "import matplotlib.pyplot as plt\n",
    "\n",
    "x = [1, 5, 10, 10, 25, 50, 70, 75, 300]\n",
    "y = [0, 0, 0, 0, 0, 1, 1, 1, 1]\n",
    "\n",
    "colors = np.random.rand(len(x))\n",
    "plt.plot(np.unique(x), np.poly1d(np.polyfit(x, y, 1))(np.unique(x)))\n",
    "plt.ylabel(\"Fever\")\n",
    "plt.xlabel(\"Temperature\")\n",
    "\n",
    "plt.scatter(x, y, c=colors, alpha=0.5)\n",
    "plt.show()"
   ]
  },
  {
   "cell_type": "markdown",
   "metadata": {},
   "source": [
    "# Logistic Regression In-depth"
   ]
  },
  {
   "cell_type": "code",
   "execution_count": 69,
   "metadata": {},
   "outputs": [
    {
     "name": "stdout",
     "output_type": "stream",
     "text": [
      "1.0000050000287824e-05\n",
      "11.51292546497478\n",
      "-1.0000050000287824e-05\n",
      "-11.512925464970229\n"
     ]
    }
   ],
   "source": [
    "import math\n",
    "print(-math.log(1 - 0.00001))\n",
    "print(-math.log(1 - 0.99999))\n",
    "\n",
    "print(math.log(0.99999))\n",
    "print(math.log(0.00001))"
   ]
  },
  {
   "cell_type": "markdown",
   "metadata": {},
   "source": [
    "# Logistic Regression with PyTorch"
   ]
  },
  {
   "cell_type": "code",
   "execution_count": 70,
   "metadata": {},
   "outputs": [],
   "source": [
    "import torch\n",
    "import torch.nn as nn\n",
    "import torchvision.transforms as transforms\n",
    "import torchvision.datasets as dsets\n",
    "from torch.autograd import Variable"
   ]
  },
  {
   "cell_type": "code",
   "execution_count": 71,
   "metadata": {},
   "outputs": [],
   "source": [
    "train_dataset = dsets.MNIST(root='./data',\n",
    "                            train=True,\n",
    "                            transform=transforms.ToTensor(),\n",
    "                            download=True)"
   ]
  },
  {
   "cell_type": "code",
   "execution_count": 72,
   "metadata": {},
   "outputs": [
    {
     "data": {
      "text/plain": [
       "60000"
      ]
     },
     "execution_count": 72,
     "metadata": {},
     "output_type": "execute_result"
    }
   ],
   "source": [
    "len(train_dataset)"
   ]
  },
  {
   "cell_type": "code",
   "execution_count": 73,
   "metadata": {},
   "outputs": [
    {
     "data": {
      "text/plain": [
       "(tensor([[[ 0.0000,  0.0000,  0.0000,  0.0000,  0.0000,  0.0000,  0.0000,\n",
       "            0.0000,  0.0000,  0.0000,  0.0000,  0.0000,  0.0000,  0.0000,\n",
       "            0.0000,  0.0000,  0.0000,  0.0000,  0.0000,  0.0000,  0.0000,\n",
       "            0.0000,  0.0000,  0.0000,  0.0000,  0.0000,  0.0000,  0.0000],\n",
       "          [ 0.0000,  0.0000,  0.0000,  0.0000,  0.0000,  0.0000,  0.0000,\n",
       "            0.0000,  0.0000,  0.0000,  0.0000,  0.0000,  0.0000,  0.0000,\n",
       "            0.0000,  0.0000,  0.0000,  0.0000,  0.0000,  0.0000,  0.0000,\n",
       "            0.0000,  0.0000,  0.0000,  0.0000,  0.0000,  0.0000,  0.0000],\n",
       "          [ 0.0000,  0.0000,  0.0000,  0.0000,  0.0000,  0.0000,  0.0000,\n",
       "            0.0000,  0.0000,  0.0000,  0.0000,  0.0000,  0.0000,  0.0000,\n",
       "            0.0000,  0.0000,  0.0000,  0.0000,  0.0000,  0.0000,  0.0000,\n",
       "            0.0000,  0.0000,  0.0000,  0.0000,  0.0000,  0.0000,  0.0000],\n",
       "          [ 0.0000,  0.0000,  0.0000,  0.0000,  0.0000,  0.0000,  0.0000,\n",
       "            0.0000,  0.0000,  0.0000,  0.0000,  0.0000,  0.0000,  0.0000,\n",
       "            0.0000,  0.0000,  0.0000,  0.0000,  0.0000,  0.0000,  0.0000,\n",
       "            0.0000,  0.0000,  0.0000,  0.0000,  0.0000,  0.0000,  0.0000],\n",
       "          [ 0.0000,  0.0000,  0.0000,  0.0000,  0.0000,  0.0000,  0.0000,\n",
       "            0.0000,  0.0000,  0.0000,  0.0000,  0.0000,  0.0000,  0.0000,\n",
       "            0.0000,  0.0000,  0.0000,  0.0000,  0.0000,  0.0000,  0.0000,\n",
       "            0.0000,  0.0000,  0.0000,  0.0000,  0.0000,  0.0000,  0.0000],\n",
       "          [ 0.0000,  0.0000,  0.0000,  0.0000,  0.0000,  0.0000,  0.0000,\n",
       "            0.0000,  0.0000,  0.0000,  0.0000,  0.0000,  0.0118,  0.0706,\n",
       "            0.0706,  0.0706,  0.4941,  0.5333,  0.6863,  0.1020,  0.6510,\n",
       "            1.0000,  0.9686,  0.4980,  0.0000,  0.0000,  0.0000,  0.0000],\n",
       "          [ 0.0000,  0.0000,  0.0000,  0.0000,  0.0000,  0.0000,  0.0000,\n",
       "            0.0000,  0.1176,  0.1412,  0.3686,  0.6039,  0.6667,  0.9922,\n",
       "            0.9922,  0.9922,  0.9922,  0.9922,  0.8824,  0.6745,  0.9922,\n",
       "            0.9490,  0.7647,  0.2510,  0.0000,  0.0000,  0.0000,  0.0000],\n",
       "          [ 0.0000,  0.0000,  0.0000,  0.0000,  0.0000,  0.0000,  0.0000,\n",
       "            0.1922,  0.9333,  0.9922,  0.9922,  0.9922,  0.9922,  0.9922,\n",
       "            0.9922,  0.9922,  0.9922,  0.9843,  0.3647,  0.3216,  0.3216,\n",
       "            0.2196,  0.1529,  0.0000,  0.0000,  0.0000,  0.0000,  0.0000],\n",
       "          [ 0.0000,  0.0000,  0.0000,  0.0000,  0.0000,  0.0000,  0.0000,\n",
       "            0.0706,  0.8588,  0.9922,  0.9922,  0.9922,  0.9922,  0.9922,\n",
       "            0.7765,  0.7137,  0.9686,  0.9451,  0.0000,  0.0000,  0.0000,\n",
       "            0.0000,  0.0000,  0.0000,  0.0000,  0.0000,  0.0000,  0.0000],\n",
       "          [ 0.0000,  0.0000,  0.0000,  0.0000,  0.0000,  0.0000,  0.0000,\n",
       "            0.0000,  0.3137,  0.6118,  0.4196,  0.9922,  0.9922,  0.8039,\n",
       "            0.0431,  0.0000,  0.1686,  0.6039,  0.0000,  0.0000,  0.0000,\n",
       "            0.0000,  0.0000,  0.0000,  0.0000,  0.0000,  0.0000,  0.0000],\n",
       "          [ 0.0000,  0.0000,  0.0000,  0.0000,  0.0000,  0.0000,  0.0000,\n",
       "            0.0000,  0.0000,  0.0549,  0.0039,  0.6039,  0.9922,  0.3529,\n",
       "            0.0000,  0.0000,  0.0000,  0.0000,  0.0000,  0.0000,  0.0000,\n",
       "            0.0000,  0.0000,  0.0000,  0.0000,  0.0000,  0.0000,  0.0000],\n",
       "          [ 0.0000,  0.0000,  0.0000,  0.0000,  0.0000,  0.0000,  0.0000,\n",
       "            0.0000,  0.0000,  0.0000,  0.0000,  0.5451,  0.9922,  0.7451,\n",
       "            0.0078,  0.0000,  0.0000,  0.0000,  0.0000,  0.0000,  0.0000,\n",
       "            0.0000,  0.0000,  0.0000,  0.0000,  0.0000,  0.0000,  0.0000],\n",
       "          [ 0.0000,  0.0000,  0.0000,  0.0000,  0.0000,  0.0000,  0.0000,\n",
       "            0.0000,  0.0000,  0.0000,  0.0000,  0.0431,  0.7451,  0.9922,\n",
       "            0.2745,  0.0000,  0.0000,  0.0000,  0.0000,  0.0000,  0.0000,\n",
       "            0.0000,  0.0000,  0.0000,  0.0000,  0.0000,  0.0000,  0.0000],\n",
       "          [ 0.0000,  0.0000,  0.0000,  0.0000,  0.0000,  0.0000,  0.0000,\n",
       "            0.0000,  0.0000,  0.0000,  0.0000,  0.0000,  0.1373,  0.9451,\n",
       "            0.8824,  0.6275,  0.4235,  0.0039,  0.0000,  0.0000,  0.0000,\n",
       "            0.0000,  0.0000,  0.0000,  0.0000,  0.0000,  0.0000,  0.0000],\n",
       "          [ 0.0000,  0.0000,  0.0000,  0.0000,  0.0000,  0.0000,  0.0000,\n",
       "            0.0000,  0.0000,  0.0000,  0.0000,  0.0000,  0.0000,  0.3176,\n",
       "            0.9412,  0.9922,  0.9922,  0.4667,  0.0980,  0.0000,  0.0000,\n",
       "            0.0000,  0.0000,  0.0000,  0.0000,  0.0000,  0.0000,  0.0000],\n",
       "          [ 0.0000,  0.0000,  0.0000,  0.0000,  0.0000,  0.0000,  0.0000,\n",
       "            0.0000,  0.0000,  0.0000,  0.0000,  0.0000,  0.0000,  0.0000,\n",
       "            0.1765,  0.7294,  0.9922,  0.9922,  0.5882,  0.1059,  0.0000,\n",
       "            0.0000,  0.0000,  0.0000,  0.0000,  0.0000,  0.0000,  0.0000],\n",
       "          [ 0.0000,  0.0000,  0.0000,  0.0000,  0.0000,  0.0000,  0.0000,\n",
       "            0.0000,  0.0000,  0.0000,  0.0000,  0.0000,  0.0000,  0.0000,\n",
       "            0.0000,  0.0627,  0.3647,  0.9882,  0.9922,  0.7333,  0.0000,\n",
       "            0.0000,  0.0000,  0.0000,  0.0000,  0.0000,  0.0000,  0.0000],\n",
       "          [ 0.0000,  0.0000,  0.0000,  0.0000,  0.0000,  0.0000,  0.0000,\n",
       "            0.0000,  0.0000,  0.0000,  0.0000,  0.0000,  0.0000,  0.0000,\n",
       "            0.0000,  0.0000,  0.0000,  0.9765,  0.9922,  0.9765,  0.2510,\n",
       "            0.0000,  0.0000,  0.0000,  0.0000,  0.0000,  0.0000,  0.0000],\n",
       "          [ 0.0000,  0.0000,  0.0000,  0.0000,  0.0000,  0.0000,  0.0000,\n",
       "            0.0000,  0.0000,  0.0000,  0.0000,  0.0000,  0.0000,  0.0000,\n",
       "            0.1804,  0.5098,  0.7176,  0.9922,  0.9922,  0.8118,  0.0078,\n",
       "            0.0000,  0.0000,  0.0000,  0.0000,  0.0000,  0.0000,  0.0000],\n",
       "          [ 0.0000,  0.0000,  0.0000,  0.0000,  0.0000,  0.0000,  0.0000,\n",
       "            0.0000,  0.0000,  0.0000,  0.0000,  0.0000,  0.1529,  0.5804,\n",
       "            0.8980,  0.9922,  0.9922,  0.9922,  0.9804,  0.7137,  0.0000,\n",
       "            0.0000,  0.0000,  0.0000,  0.0000,  0.0000,  0.0000,  0.0000],\n",
       "          [ 0.0000,  0.0000,  0.0000,  0.0000,  0.0000,  0.0000,  0.0000,\n",
       "            0.0000,  0.0000,  0.0000,  0.0941,  0.4471,  0.8667,  0.9922,\n",
       "            0.9922,  0.9922,  0.9922,  0.7882,  0.3059,  0.0000,  0.0000,\n",
       "            0.0000,  0.0000,  0.0000,  0.0000,  0.0000,  0.0000,  0.0000],\n",
       "          [ 0.0000,  0.0000,  0.0000,  0.0000,  0.0000,  0.0000,  0.0000,\n",
       "            0.0000,  0.0902,  0.2588,  0.8353,  0.9922,  0.9922,  0.9922,\n",
       "            0.9922,  0.7765,  0.3176,  0.0078,  0.0000,  0.0000,  0.0000,\n",
       "            0.0000,  0.0000,  0.0000,  0.0000,  0.0000,  0.0000,  0.0000],\n",
       "          [ 0.0000,  0.0000,  0.0000,  0.0000,  0.0000,  0.0000,  0.0706,\n",
       "            0.6706,  0.8588,  0.9922,  0.9922,  0.9922,  0.9922,  0.7647,\n",
       "            0.3137,  0.0353,  0.0000,  0.0000,  0.0000,  0.0000,  0.0000,\n",
       "            0.0000,  0.0000,  0.0000,  0.0000,  0.0000,  0.0000,  0.0000],\n",
       "          [ 0.0000,  0.0000,  0.0000,  0.0000,  0.2157,  0.6745,  0.8863,\n",
       "            0.9922,  0.9922,  0.9922,  0.9922,  0.9569,  0.5216,  0.0431,\n",
       "            0.0000,  0.0000,  0.0000,  0.0000,  0.0000,  0.0000,  0.0000,\n",
       "            0.0000,  0.0000,  0.0000,  0.0000,  0.0000,  0.0000,  0.0000],\n",
       "          [ 0.0000,  0.0000,  0.0000,  0.0000,  0.5333,  0.9922,  0.9922,\n",
       "            0.9922,  0.8314,  0.5294,  0.5176,  0.0627,  0.0000,  0.0000,\n",
       "            0.0000,  0.0000,  0.0000,  0.0000,  0.0000,  0.0000,  0.0000,\n",
       "            0.0000,  0.0000,  0.0000,  0.0000,  0.0000,  0.0000,  0.0000],\n",
       "          [ 0.0000,  0.0000,  0.0000,  0.0000,  0.0000,  0.0000,  0.0000,\n",
       "            0.0000,  0.0000,  0.0000,  0.0000,  0.0000,  0.0000,  0.0000,\n",
       "            0.0000,  0.0000,  0.0000,  0.0000,  0.0000,  0.0000,  0.0000,\n",
       "            0.0000,  0.0000,  0.0000,  0.0000,  0.0000,  0.0000,  0.0000],\n",
       "          [ 0.0000,  0.0000,  0.0000,  0.0000,  0.0000,  0.0000,  0.0000,\n",
       "            0.0000,  0.0000,  0.0000,  0.0000,  0.0000,  0.0000,  0.0000,\n",
       "            0.0000,  0.0000,  0.0000,  0.0000,  0.0000,  0.0000,  0.0000,\n",
       "            0.0000,  0.0000,  0.0000,  0.0000,  0.0000,  0.0000,  0.0000],\n",
       "          [ 0.0000,  0.0000,  0.0000,  0.0000,  0.0000,  0.0000,  0.0000,\n",
       "            0.0000,  0.0000,  0.0000,  0.0000,  0.0000,  0.0000,  0.0000,\n",
       "            0.0000,  0.0000,  0.0000,  0.0000,  0.0000,  0.0000,  0.0000,\n",
       "            0.0000,  0.0000,  0.0000,  0.0000,  0.0000,  0.0000,  0.0000]]]),\n",
       " tensor(5))"
      ]
     },
     "execution_count": 73,
     "metadata": {},
     "output_type": "execute_result"
    }
   ],
   "source": [
    "train_dataset[0]"
   ]
  },
  {
   "cell_type": "code",
   "execution_count": 74,
   "metadata": {},
   "outputs": [
    {
     "data": {
      "text/plain": [
       "tuple"
      ]
     },
     "execution_count": 74,
     "metadata": {},
     "output_type": "execute_result"
    }
   ],
   "source": [
    "type(train_dataset[0])"
   ]
  },
  {
   "cell_type": "code",
   "execution_count": 75,
   "metadata": {},
   "outputs": [
    {
     "data": {
      "text/plain": [
       "torch.Size([1, 28, 28])"
      ]
     },
     "execution_count": 75,
     "metadata": {},
     "output_type": "execute_result"
    }
   ],
   "source": [
    "# Input Matrix\n",
    "train_dataset[0][0].size()"
   ]
  },
  {
   "cell_type": "code",
   "execution_count": 76,
   "metadata": {},
   "outputs": [
    {
     "data": {
      "text/plain": [
       "tensor(5)"
      ]
     },
     "execution_count": 76,
     "metadata": {},
     "output_type": "execute_result"
    }
   ],
   "source": [
    "# Label\n",
    "train_dataset[0][1]"
   ]
  },
  {
   "cell_type": "code",
   "execution_count": 77,
   "metadata": {},
   "outputs": [],
   "source": [
    "import matplotlib.pyplot as plt\n",
    "%matplotlib inline\n",
    "import numpy as np"
   ]
  },
  {
   "cell_type": "code",
   "execution_count": 78,
   "metadata": {},
   "outputs": [
    {
     "data": {
      "text/plain": [
       "(1, 28, 28)"
      ]
     },
     "execution_count": 78,
     "metadata": {},
     "output_type": "execute_result"
    }
   ],
   "source": [
    "train_dataset[0][0].numpy().shape"
   ]
  },
  {
   "cell_type": "code",
   "execution_count": 79,
   "metadata": {},
   "outputs": [],
   "source": [
    "show_img = train_dataset[0][0].numpy().reshape(28, 28)"
   ]
  },
  {
   "cell_type": "code",
   "execution_count": 80,
   "metadata": {},
   "outputs": [
    {
     "data": {
      "text/plain": [
       "<matplotlib.image.AxesImage at 0x10ecd8668>"
      ]
     },
     "execution_count": 80,
     "metadata": {},
     "output_type": "execute_result"
    },
    {
     "data": {
      "image/png": "[encoded data removed]",
      "text/plain": [
       "<Figure size 432x288 with 1 Axes>"
      ]
     },
     "metadata": {},
     "output_type": "display_data"
    }
   ],
   "source": [
    "plt.imshow(show_img, cmap='gray')"
   ]
  },
  {
   "cell_type": "code",
   "execution_count": 81,
   "metadata": {},
   "outputs": [
    {
     "data": {
      "text/plain": [
       "tensor(5)"
      ]
     },
     "execution_count": 81,
     "metadata": {},
     "output_type": "execute_result"
    }
   ],
   "source": [
    "# Label\n",
    "train_dataset[0][1]"
   ]
  },
  {
   "cell_type": "code",
   "execution_count": 82,
   "metadata": {},
   "outputs": [],
   "source": [
    "show_img = train_dataset[1][0].numpy().reshape(28, 28)"
   ]
  },
  {
   "cell_type": "code",
   "execution_count": 83,
   "metadata": {},
   "outputs": [
    {
     "data": {
      "text/plain": [
       "<matplotlib.image.AxesImage at 0x10ed2e630>"
      ]
     },
     "execution_count": 83,
     "metadata": {},
     "output_type": "execute_result"
    },
    {
     "data": {
      "image/png": "[encoded data removed]",
      "text/plain": [
       "<Figure size 432x288 with 1 Axes>"
      ]
     },
     "metadata": {},
     "output_type": "display_data"
    }
   ],
   "source": [
    "plt.imshow(show_img, cmap='gray')"
   ]
  },
  {
   "cell_type": "code",
   "execution_count": 84,
   "metadata": {},
   "outputs": [
    {
     "data": {
      "text/plain": [
       "tensor(0)"
      ]
     },
     "execution_count": 84,
     "metadata": {},
     "output_type": "execute_result"
    }
   ],
   "source": [
    "# Label\n",
    "train_dataset[1][1]"
   ]
  },
  {
   "cell_type": "code",
   "execution_count": 85,
   "metadata": {},
   "outputs": [],
   "source": [
    "test_dataset = dsets.MNIST(root='./data',\n",
    "                           train=False,\n",
    "                           transform=transforms.ToTensor())"
   ]
  },
  {
   "cell_type": "code",
   "execution_count": 86,
   "metadata": {},
   "outputs": [
    {
     "data": {
      "text/plain": [
       "10000"
      ]
     },
     "execution_count": 86,
     "metadata": {},
     "output_type": "execute_result"
    }
   ],
   "source": [
    "len(test_dataset)"
   ]
  },
  {
   "cell_type": "code",
   "execution_count": 87,
   "metadata": {},
   "outputs": [
    {
     "data": {
      "text/plain": [
       "tuple"
      ]
     },
     "execution_count": 87,
     "metadata": {},
     "output_type": "execute_result"
    }
   ],
   "source": [
    "type(test_dataset[0])"
   ]
  },
  {
   "cell_type": "code",
   "execution_count": 88,
   "metadata": {},
   "outputs": [
    {
     "data": {
      "text/plain": [
       "torch.Size([1, 28, 28])"
      ]
     },
     "execution_count": 88,
     "metadata": {},
     "output_type": "execute_result"
    }
   ],
   "source": [
    "# Image matrix\n",
    "test_dataset[0][0].size()"
   ]
  },
  {
   "cell_type": "code",
   "execution_count": 89,
   "metadata": {},
   "outputs": [
    {
     "data": {
      "text/plain": [
       "<matplotlib.image.AxesImage at 0x12065bb70>"
      ]
     },
     "execution_count": 89,
     "metadata": {},
     "output_type": "execute_result"
    },
    {
     "data": {
      "image/png": "[encoded data removed]",
      "text/plain": [
       "<Figure size 432x288 with 1 Axes>"
      ]
     },
     "metadata": {},
     "output_type": "display_data"
    }
   ],
   "source": [
    "show_img = test_dataset[0][0].numpy().reshape(28, 28)\n",
    "plt.imshow(show_img, cmap='gray')"
   ]
  },
  {
   "cell_type": "code",
   "execution_count": 90,
   "metadata": {},
   "outputs": [
    {
     "data": {
      "text/plain": [
       "tensor(7)"
      ]
     },
     "execution_count": 90,
     "metadata": {},
     "output_type": "execute_result"
    }
   ],
   "source": [
    "# Label\n",
    "test_dataset[0][1]"
   ]
  },
  {
   "cell_type": "code",
   "execution_count": 91,
   "metadata": {},
   "outputs": [
    {
     "data": {
      "text/plain": [
       "60000"
      ]
     },
     "execution_count": 91,
     "metadata": {},
     "output_type": "execute_result"
    }
   ],
   "source": [
    "len(train_dataset)"
   ]
  },
  {
   "cell_type": "code",
   "execution_count": 92,
   "metadata": {},
   "outputs": [],
   "source": [
    "batch_size = 100"
   ]
  },
  {
   "cell_type": "code",
   "execution_count": 93,
   "metadata": {},
   "outputs": [],
   "source": [
    "n_iters = 3000"
   ]
  },
  {
   "cell_type": "code",
   "execution_count": 94,
   "metadata": {},
   "outputs": [
    {
     "data": {
      "text/plain": [
       "5"
      ]
     },
     "execution_count": 94,
     "metadata": {},
     "output_type": "execute_result"
    }
   ],
   "source": [
    "num_epochs = n_iters / (len(train_dataset) / batch_size)\n",
    "num_epochs = int(num_epochs)\n",
    "num_epochs"
   ]
  },
  {
   "cell_type": "code",
   "execution_count": 95,
   "metadata": {},
   "outputs": [],
   "source": [
    "train_loader = torch.utils.data.DataLoader(dataset=train_dataset,\n",
    "                                           batch_size=batch_size,\n",
    "                                           shuffle=True)"
   ]
  },
  {
   "cell_type": "code",
   "execution_count": 96,
   "metadata": {},
   "outputs": [
    {
     "data": {
      "text/plain": [
       "True"
      ]
     },
     "execution_count": 96,
     "metadata": {},
     "output_type": "execute_result"
    }
   ],
   "source": [
    "import collections\n",
    "isinstance(train_loader, collections.Iterable)"
   ]
  },
  {
   "cell_type": "code",
   "execution_count": 97,
   "metadata": {},
   "outputs": [],
   "source": [
    "# Iterable object\n",
    "test_loader = torch.utils.data.DataLoader(dataset=test_dataset,\n",
    "                                          batch_size=batch_size,\n",
    "                                          shuffle=False)"
   ]
  },
  {
   "cell_type": "code",
   "execution_count": 98,
   "metadata": {},
   "outputs": [
    {
     "data": {
      "text/plain": [
       "True"
      ]
     },
     "execution_count": 98,
     "metadata": {},
     "output_type": "execute_result"
    }
   ],
   "source": [
    "isinstance(test_loader, collections.Iterable)"
   ]
  },
  {
   "cell_type": "code",
   "execution_count": 99,
   "metadata": {},
   "outputs": [],
   "source": [
    "img_1 = np.ones((28, 28))\n",
    "img_2 = np.ones((28, 28))\n",
    "lst = [img_1, img_2]"
   ]
  },
  {
   "cell_type": "code",
   "execution_count": 100,
   "metadata": {},
   "outputs": [
    {
     "name": "stdout",
     "output_type": "stream",
     "text": [
      "(28, 28)\n",
      "(28, 28)\n"
     ]
    }
   ],
   "source": [
    "# Need to iterate\n",
    "# Think of numbers as the images\n",
    "for i in lst:\n",
    "    print(i.shape)"
   ]
  },
  {
   "cell_type": "code",
   "execution_count": 101,
   "metadata": {},
   "outputs": [],
   "source": [
    "# Same as linear regression!\n",
    "class LogisticRegressionModel(nn.Module):\n",
    "    def __init__(self, input_dim, output_dim):\n",
    "        super(LogisticRegressionModel, self).__init__()\n",
    "        self.linear = nn.Linear(input_dim, output_dim)\n",
    "        \n",
    "    def forward(self, x):\n",
    "        out = self.linear(x)\n",
    "        return out\n",
    "    "
   ]
  },
  {
   "cell_type": "code",
   "execution_count": 102,
   "metadata": {},
   "outputs": [
    {
     "data": {
      "text/plain": [
       "torch.Size([1, 28, 28])"
      ]
     },
     "execution_count": 102,
     "metadata": {},
     "output_type": "execute_result"
    }
   ],
   "source": [
    "# Size of images\n",
    "train_dataset[0][0].size()"
   ]
  },
  {
   "cell_type": "code",
   "execution_count": 103,
   "metadata": {},
   "outputs": [],
   "source": [
    "input_dim = 28*28\n",
    "output_dim = 10\n",
    "\n",
    "model = LogisticRegressionModel(input_dim, output_dim)"
   ]
  },
  {
   "cell_type": "code",
   "execution_count": 104,
   "metadata": {},
   "outputs": [],
   "source": [
    "criterion = nn.CrossEntropyLoss()"
   ]
  },
  {
   "cell_type": "code",
   "execution_count": 105,
   "metadata": {},
   "outputs": [],
   "source": [
    "learning_rate = 0.001\n",
    "\n",
    "optimizer = torch.optim.SGD(model.parameters(), lr=learning_rate)"
   ]
  },
  {
   "cell_type": "code",
   "execution_count": 106,
   "metadata": {},
   "outputs": [
    {
     "name": "stdout",
     "output_type": "stream",
     "text": [
      "<generator object Module.parameters at 0x10ed617d8>\n",
      "2\n",
      "torch.Size([10, 784])\n",
      "torch.Size([10])\n"
     ]
    }
   ],
   "source": [
    "print(model.parameters())\n",
    "\n",
    "print(len(list(model.parameters())))\n",
    "\n",
    "# FC 1 Parameters\n",
    "print(list(model.parameters())[0].size())\n",
    "\n",
    "# FC 1 Bias Parameters\n",
    "print(list(model.parameters())[1].size())"
   ]
  },
  {
   "cell_type": "code",
   "execution_count": 107,
   "metadata": {},
   "outputs": [
    {
     "name": "stderr",
     "output_type": "stream",
     "text": [
      "/Users/robertlowe/anaconda3/lib/python3.6/site-packages/ipykernel_launcher.py:49: UserWarning: invalid index of a 0-dim tensor. This will be an error in PyTorch 0.5. Use tensor.item() to convert a 0-dim tensor to a Python number\n"
     ]
    },
    {
     "name": "stdout",
     "output_type": "stream",
     "text": [
      "Iteration: 500. Loss: 1.9483647346496582. Accuracy: 68\n",
      "Iteration: 1000. Loss: 1.5544313192367554. Accuracy: 77\n",
      "Iteration: 1500. Loss: 1.3771770000457764. Accuracy: 79\n",
      "Iteration: 2000. Loss: 1.112896203994751. Accuracy: 81\n",
      "Iteration: 2500. Loss: 0.9863690137863159. Accuracy: 82\n",
      "Iteration: 3000. Loss: 1.0114588737487793. Accuracy: 82\n"
     ]
    }
   ],
   "source": [
    "iter = 0\n",
    "for epoch in range(num_epochs):\n",
    "    for i, (images, labels) in enumerate(train_loader):\n",
    "        # Load images as Variable\n",
    "        images = Variable(images.view(-1, 28*28))\n",
    "        labels = Variable(labels)\n",
    "        \n",
    "        # Clear gradients w.r.t. parameters\n",
    "        optimizer.zero_grad()\n",
    "        \n",
    "        # Forward pass to get output/logits\n",
    "        outputs = model(images)\n",
    "        \n",
    "        # Calculate Loss: softmax --> cross entropy loss\n",
    "        loss = criterion(outputs, labels)\n",
    "        \n",
    "        # Getting gradients w.r.t. parameters\n",
    "        loss.backward()\n",
    "        \n",
    "        # Updating parameters\n",
    "        optimizer.step()\n",
    "        \n",
    "        iter += 1\n",
    "        \n",
    "        if iter % 500 == 0:\n",
    "            # Calculate Accuracy\n",
    "            correct = 0\n",
    "            total = 0\n",
    "            # Iterate through test dataset\n",
    "            for images, labels in test_loader:\n",
    "                # Load images to a Torch Variable\n",
    "                images = Variable(images.view(-1, 28*28))\n",
    "                \n",
    "                # Forward pass only to get logits/output\n",
    "                outputs = model(images)\n",
    "                \n",
    "                # Get predictions from the maximum value\n",
    "                _, predicted = torch.max(outputs.data, 1)\n",
    "                \n",
    "                # Total number of labels\n",
    "                total += labels.size(0)\n",
    "                \n",
    "                # Total correct predictions\n",
    "                correct += (predicted == labels).sum()\n",
    "                \n",
    "            accuracy = 100 * correct / total\n",
    "            \n",
    "            # Print Loss\n",
    "            print(\"Iteration: {}. Loss: {}. Accuracy: {}\".format(iter, loss.data[0], accuracy))"
   ]
  },
  {
   "cell_type": "code",
   "execution_count": 108,
   "metadata": {},
   "outputs": [
    {
     "name": "stdout",
     "output_type": "stream",
     "text": [
      "OUTPUTS\n",
      "tensor([[-0.1498, -1.2057, -0.2457, -0.2752,  0.0316, -0.3409, -0.9354,\n",
      "          2.8128, -0.2957,  0.8260],\n",
      "        [ 0.4317,  0.1092,  1.7001,  1.0896, -1.7959,  0.7105,  1.2608,\n",
      "         -1.8006,  0.4848, -1.5593],\n",
      "        [-0.9378,  2.2493,  0.2237, -0.0659, -0.8783, -0.3345, -0.1759,\n",
      "         -0.2663,  0.1743, -0.2930],\n",
      "        [ 2.9909, -2.5124, -0.1327, -0.2727, -0.7895,  0.6666,  1.3330,\n",
      "          0.2248, -0.4692, -0.2007],\n",
      "        [ 0.1023, -2.1495,  0.4771, -0.6156,  1.6595, -0.4397,  0.1652,\n",
      "          0.3744, -0.0724,  0.8061],\n",
      "        [-1.3702,  2.7947,  0.0920,  0.0249, -0.8943, -0.5552, -0.8381,\n",
      "         -0.0632,  0.4104, -0.2522],\n",
      "        [-1.2368, -1.2908, -0.6743,  0.1553,  1.2968,  0.1928, -0.7573,\n",
      "          0.6312,  0.4444,  0.9399],\n",
      "        [-1.2521, -0.4212, -0.6296, -0.1160,  0.7575,  0.5779,  0.0918,\n",
      "          0.0984,  0.0986,  1.1561],\n",
      "        [ 0.3765, -0.5027,  0.9709, -1.1525,  0.3451, -0.1731,  0.7711,\n",
      "         -0.9901,  0.0002,  0.2763],\n",
      "        [-0.6355, -0.8644, -1.1987, -1.1964,  1.0992, -0.3143, -0.4521,\n",
      "          1.6656,  0.0028,  1.7806],\n",
      "        [ 3.4285, -2.0239,  0.6178,  1.0978, -0.6424,  1.0012, -0.4088,\n",
      "         -1.4334,  0.7590, -1.6665],\n",
      "        [ 0.8151, -0.4433,  0.7567, -0.0195,  0.4115, -0.2507,  0.7745,\n",
      "         -1.0565,  0.2092, -0.4885],\n",
      "        [-0.8257, -1.5118, -0.9366, -1.0139,  1.4972, -0.1597, -0.3072,\n",
      "          1.0535,  0.1678,  2.2388],\n",
      "        [ 2.9640, -2.6657, -0.2037, -0.2125, -0.1470,  0.9025, -0.2028,\n",
      "         -0.5291,  0.7964,  0.3515],\n",
      "        [-1.3553,  2.8072, -0.1934,  0.4446, -1.1137, -0.2083, -0.0669,\n",
      "         -0.3429,  0.2917, -0.1794],\n",
      "        [ 0.4629, -1.1036,  0.1760,  1.1756, -0.4085,  0.8813, -0.5678,\n",
      "         -0.5320,  0.4001, -0.7797],\n",
      "        [-0.2119, -2.0438,  0.1747, -0.5969,  1.3899, -0.8029, -0.0541,\n",
      "          0.9107,  0.1888,  1.7461],\n",
      "        [ 0.4481, -1.6815, -0.4642,  0.5616, -0.1297, -0.3580, -0.5079,\n",
      "          2.7849, -0.5257,  0.5311],\n",
      "        [-0.7006, -0.5152,  0.0334,  1.1887, -0.3778,  0.6550,  0.8270,\n",
      "         -0.3811, -0.0144, -0.2150],\n",
      "        [-0.9371, -1.6564, -0.3709, -0.2928,  2.0159,  0.1717, -0.2490,\n",
      "          0.1014, -0.1308,  1.3244],\n",
      "        [-1.0900, -0.2521, -1.4699, -0.0632,  0.3504,  0.2204, -1.3304,\n",
      "          1.6201,  0.2412,  1.4884],\n",
      "        [-0.6409, -1.6506, -0.0481,  0.2285,  0.3447,  0.7093,  2.1641,\n",
      "         -1.4527,  0.2549,  0.0269],\n",
      "        [-0.3771,  0.1138,  0.5931, -0.7299,  0.8950, -1.1653,  1.0973,\n",
      "          0.1846, -0.1219,  0.1661],\n",
      "        [-0.0140, -0.7326, -0.5515,  0.2926, -0.1841,  1.4282,  0.4497,\n",
      "         -0.9288,  1.0229, -0.1848],\n",
      "        [-0.6221, -1.0391,  0.0420, -0.1398,  1.2346, -0.3105, -0.0985,\n",
      "          0.4094, -0.2839,  0.9967],\n",
      "        [ 4.1652, -2.9547,  0.7379, -1.3076, -0.1392,  0.7784,  1.0342,\n",
      "         -0.5839,  0.0526, -1.2182],\n",
      "        [-0.1287, -1.4059, -0.5353,  0.1291,  0.1594, -0.0870, -0.6808,\n",
      "          1.6837, -0.4695,  1.0257],\n",
      "        [-0.3954, -2.2846, -0.2680, -0.6125,  2.2285,  0.2125,  0.2443,\n",
      "         -0.1495,  0.1392,  1.3927],\n",
      "        [ 2.7339, -2.3993, -0.0040,  1.1871, -1.0494,  0.8761, -0.0927,\n",
      "         -0.5847,  0.8254, -0.1990],\n",
      "        [-0.9975,  1.4771, -0.3320,  0.2690, -0.5150,  0.0646,  0.2695,\n",
      "         -0.1877,  0.3674, -0.3594],\n",
      "        [-0.5699, -0.0387, -1.0262,  2.1990, -1.1239,  0.9726, -0.1877,\n",
      "          0.6231,  0.2678, -0.1407],\n",
      "        [-1.0647,  1.1425, -0.2825,  0.3036, -0.2780,  0.0475, -0.1148,\n",
      "          0.1079,  0.1220,  0.0984],\n",
      "        [-0.7386, -0.6709, -0.6165,  2.4197, -0.2703,  1.4052, -0.3838,\n",
      "         -0.9856,  0.6553, -0.2060],\n",
      "        [ 1.8950, -1.9148,  0.7279, -1.5566,  0.9562,  0.1582,  1.4356,\n",
      "         -0.8288, -0.0616, -0.1710],\n",
      "        [-0.9899, -0.3563,  0.7636, -0.3203, -0.1211, -0.5773, -1.2243,\n",
      "          1.7073,  0.7323,  0.6107],\n",
      "        [ 0.3844, -1.5328,  2.6218,  0.2203, -0.7462,  0.1308,  0.6174,\n",
      "         -0.4739,  0.3564, -1.7066],\n",
      "        [-0.4887, -1.6786,  0.2370, -0.0177, -0.0113, -0.4297, -0.5504,\n",
      "          2.3504, -0.2811,  1.1067],\n",
      "        [-1.3878,  2.1558, -0.4398,  0.1053, -0.6413, -0.0838,  0.0015,\n",
      "         -0.0438,  0.3383,  0.0400],\n",
      "        [ 0.3479,  0.5490,  1.0395,  1.2047, -1.7626,  0.3628,  0.9408,\n",
      "         -1.2135,  0.7915, -1.3844],\n",
      "        [-1.4098,  2.9388, -0.2673,  0.3094, -1.3236, -0.1650, -0.1543,\n",
      "         -0.6248,  0.7006, -0.2892],\n",
      "        [-0.7525,  1.5013,  0.0295, -0.0218, -0.7497, -0.1620, -0.0754,\n",
      "         -0.2400,  0.0969, -0.1374],\n",
      "        [-0.7312, -0.7483, -0.2534, -0.4345, -0.0408, -0.3150, -0.5429,\n",
      "          2.0013, -0.3034,  1.1213],\n",
      "        [-2.0302, -0.3715, -0.1866, -0.2508,  2.1459, -0.7009, -0.9614,\n",
      "          0.7322,  0.2276,  1.6156],\n",
      "        [-0.3170,  0.8194,  1.2157, -0.0151, -0.1485, -0.6839,  0.2941,\n",
      "         -1.0437,  0.6228, -0.4616],\n",
      "        [-0.9295,  0.4038,  0.0761,  1.3661, -0.8153,  0.4320,  0.5699,\n",
      "         -0.3497,  0.1017, -0.4789],\n",
      "        [ 0.2858, -1.1159, -0.5279,  1.6805, -0.4932,  1.2526,  0.0845,\n",
      "         -1.2630,  1.0871, -0.4669],\n",
      "        [-1.3556,  0.5030, -0.0623,  0.6737, -0.0801,  0.4234,  0.2491,\n",
      "         -0.1572,  0.2114,  0.0163],\n",
      "        [-0.8257, -0.3788,  1.4586, -0.5610,  0.4985, -0.7182,  0.4590,\n",
      "         -0.2736, -0.0564, -0.0569],\n",
      "        [-1.0840, -2.8026, -1.4109,  0.0299,  2.8949,  0.5595, -0.7435,\n",
      "          0.2937,  0.5139,  2.1608],\n",
      "        [-0.2286, -2.0390,  0.6543, -0.5062,  2.3800, -0.8176,  0.2851,\n",
      "          0.3636, -0.3170,  0.9627],\n",
      "        [-0.0176, -0.9911,  0.2166,  0.3154, -0.3822,  0.5276,  2.2449,\n",
      "         -0.8289, -0.0146, -0.4995],\n",
      "        [ 0.1451, -1.2411, -0.2681,  1.8523, -0.4150,  0.7838,  0.1814,\n",
      "         -0.3157, -0.2277,  0.0411],\n",
      "        [ 0.6451, -1.2304, -1.4065, -0.0436,  0.6456,  1.5626, -0.1565,\n",
      "         -0.2436,  0.0486,  0.5505],\n",
      "        [ 0.4061, -0.9602, -0.3488,  1.0992,  0.0957,  0.7948, -0.0938,\n",
      "         -0.5859,  0.4973, -0.4016],\n",
      "        [ 0.1118, -0.6693,  1.3439, -0.2635,  0.4427, -0.5746,  0.7049,\n",
      "         -0.4366, -0.1667, -0.4772],\n",
      "        [ 1.4530, -2.4528, -0.4083,  0.6154, -0.3810,  1.1984,  0.4396,\n",
      "         -0.7223,  1.4666, -0.1656],\n",
      "        [ 0.0406, -2.8616,  0.0861, -0.4403,  2.6121,  0.1457,  0.2884,\n",
      "         -0.0880, -0.0342,  1.0576],\n",
      "        [-0.9203,  2.3629,  0.0702,  0.1134, -0.9460, -0.3652, -0.5367,\n",
      "         -0.1919,  0.3167, -0.1680],\n",
      "        [-0.0580, -1.9962, -0.8898, -0.7151,  1.8797, -0.2036, -0.1309,\n",
      "          1.0100, -0.2976,  2.1706],\n",
      "        [ 0.0536,  0.2271, -0.4818, -0.3842,  0.0861,  0.5062, -0.1893,\n",
      "          0.3110,  0.2018, -0.1237],\n",
      "        [-0.1422, -2.0786, -0.7475,  0.6106,  0.1202,  0.2148, -0.4500,\n",
      "          2.2032, -0.8066,  0.5931],\n",
      "        [ 0.1926, -0.9948,  0.9075, -1.4009,  0.0472,  0.0121,  0.7123,\n",
      "         -0.8496,  1.2313,  0.3806],\n",
      "        [-0.8473, -0.9049, -0.0168, -0.3029,  0.6675, -0.0003,  0.1499,\n",
      "          0.1158,  0.3591,  0.9435],\n",
      "        [-1.0379, -0.0518,  1.2889,  0.7310, -0.1686, -0.1975, -0.2331,\n",
      "         -0.8578,  0.3593, -0.0980],\n",
      "        [-0.8977, -1.0442,  0.1127, -0.6228,  0.9565, -0.5366, -0.1900,\n",
      "          1.6170,  0.2228,  0.5664],\n",
      "        [-1.1194, -0.6380, -0.5745,  0.3529,  0.5927,  0.4460,  0.0061,\n",
      "         -0.2155,  0.4492,  0.5481],\n",
      "        [ 0.3769, -0.1761,  0.8094, -0.2030,  0.3116, -0.6789,  0.7008,\n",
      "          0.2629, -0.3802, -0.5653],\n",
      "        [-0.4618, -1.3801,  0.6236, -0.8707,  1.9550, -0.7274, -0.2380,\n",
      "          0.3372,  0.0273,  0.7512],\n",
      "        [-1.3218, -0.1811, -0.2789,  2.7772, -0.4306,  0.7881, -0.8282,\n",
      "         -0.8397,  1.1033, -0.1732],\n",
      "        [ 2.6492, -1.2502,  0.5908, -0.6486, -1.4219,  0.6966,  0.6336,\n",
      "         -0.1627, -0.2010, -0.3217],\n",
      "        [ 0.6190, -1.5372, -0.6825,  0.0355, -0.2320, -0.4151, -0.4870,\n",
      "          2.9272, -0.5081,  0.4609],\n",
      "        [ 4.4687, -2.8542,  1.0072,  0.3332, -0.7885,  1.0585,  0.1884,\n",
      "         -1.6499,  0.4872, -1.3380],\n",
      "        [ 1.5386, -1.2235,  1.9706,  1.4183, -1.1919,  0.1833,  0.4485,\n",
      "         -0.7414,  0.3158, -1.8614],\n",
      "        [-1.4363,  0.8963,  0.3499, -0.2030, -0.6923, -0.3098, -0.8295,\n",
      "          0.7534,  1.2794,  0.5021],\n",
      "        [-1.3627,  2.4174, -0.4724,  0.0592, -0.8966,  0.0216, -0.0020,\n",
      "         -0.2092,  0.5661, -0.0614],\n",
      "        [-1.8886,  0.5188, -0.6617, -0.4007,  0.8551, -0.5493, -0.9576,\n",
      "          1.8338,  0.1561,  0.7058],\n",
      "        [ 0.0637,  0.2032, -0.2810,  2.2459, -0.9099,  0.9318, -0.4999,\n",
      "         -1.1569,  0.7837, -0.9642],\n",
      "        [-0.8136, -0.4362,  0.7627, -0.6583, -0.0684, -0.4543,  0.2030,\n",
      "          1.6738, -0.4208,  0.6087],\n",
      "        [-1.7630,  1.1257, -0.7021,  0.0779, -0.0997,  0.1649, -0.6465,\n",
      "          0.2561,  0.7871,  0.5710],\n",
      "        [-0.5529, -0.6421, -0.4735, -1.1708, -0.1030, -0.4240, -1.2041,\n",
      "          3.2606,  0.2436,  0.7911],\n",
      "        [-0.5105, -1.6565, -1.0885, -0.2035,  0.6785,  0.5389, -0.3686,\n",
      "          1.5246, -0.6499,  1.7061],\n",
      "        [-0.1102, -1.8612,  0.5061, -0.5029,  0.1469,  0.2078,  2.4044,\n",
      "         -0.3456, -0.2275,  0.2423],\n",
      "        [-0.4324, -1.3909,  4.1866,  0.1402, -0.1412, -1.1549,  0.8330,\n",
      "         -1.0433,  0.5696, -1.2715],\n",
      "        [-0.3878, -1.7924, -0.4785, -0.1473,  0.7064, -0.1466, -0.8037,\n",
      "          2.1193, -0.4407,  1.5079],\n",
      "        [-0.8588,  0.0395, -0.2543, -0.5730,  0.6587,  0.6735, -0.5731,\n",
      "         -0.7046,  1.0669,  0.7406],\n",
      "        [-1.0052, -2.5663, -0.6153,  0.1171,  2.8593,  0.3983, -0.3151,\n",
      "         -0.3240,  0.2129,  1.4207],\n",
      "        [-1.8878,  0.4543, -0.2079, -0.7597, -0.0337, -0.6647, -1.0217,\n",
      "          3.0977,  0.2113,  0.9756],\n",
      "        [ 0.0265, -1.4294, -0.9483,  1.7005, -0.2257,  1.2222,  0.5204,\n",
      "         -0.4214, -0.1432, -0.0458],\n",
      "        [-0.2266, -2.0529,  0.8877, -1.1059,  1.2005, -0.4726,  2.5907,\n",
      "         -0.1108, -0.6502,  0.3332],\n",
      "        [-1.7086,  2.9170,  0.4132, -0.1254, -0.7257, -0.5723, -0.3176,\n",
      "         -0.3903,  0.3766, -0.6058],\n",
      "        [ 0.4017, -0.6262, -0.1342,  2.8893, -1.0022,  0.8317, -1.5666,\n",
      "         -0.4797,  0.7488, -0.7232],\n",
      "        [-0.9974, -0.6881,  0.1646, -0.6257,  0.4383, -0.0324,  2.7232,\n",
      "         -1.2588,  0.0830,  0.0850],\n",
      "        [-0.9905,  0.0209,  0.0592, -0.7097,  0.4819, -0.0792, -0.1597,\n",
      "          0.0383,  0.8282,  0.3375],\n",
      "        [-0.6926, -0.3469, -0.7050,  2.5249, -1.3182,  1.0554, -0.9957,\n",
      "          0.4785,  0.7032, -0.1259],\n",
      "        [-1.9942,  1.8660, -0.1335,  0.0516, -0.6073,  0.0654,  0.5266,\n",
      "         -0.5749,  0.7134, -0.2128],\n",
      "        [-0.9122, -0.5690, -0.3971, -1.4008,  2.2058, -0.6582,  0.2081,\n",
      "         -0.0791, -0.0929,  1.4466],\n",
      "        [-0.9452,  0.5359, -0.4170,  0.2581, -0.0885,  0.3874, -0.0750,\n",
      "          0.1269,  0.3127,  0.2105],\n",
      "        [-1.7378,  1.2791, -0.7058, -0.0069,  0.0100, -0.2416, -0.1058,\n",
      "          1.0286,  0.4965,  0.3265],\n",
      "        [ 0.8651, -1.2271,  0.6745, -0.7357, -0.3322,  0.5601,  1.9127,\n",
      "         -1.2601, -0.0900, -0.4859],\n",
      "        [-0.9990, -1.6536,  0.0123, -0.1744,  1.6605, -0.8048, -0.0995,\n",
      "          1.0084,  0.1405,  2.2842]])\n"
     ]
    }
   ],
   "source": [
    "iter_test = 0\n",
    "for images, labels in test_loader:\n",
    "    iter_test += 1\n",
    "    images = Variable(images.view(-1, 28*28))\n",
    "    outputs = model(images)\n",
    "    if iter_test == 1:\n",
    "        print('OUTPUTS')\n",
    "        print(outputs)\n",
    "    _, predicted = torch.max(outputs.data, 1)"
   ]
  },
  {
   "cell_type": "code",
   "execution_count": 109,
   "metadata": {},
   "outputs": [
    {
     "name": "stdout",
     "output_type": "stream",
     "text": [
      "OUTPUTS\n",
      "torch.Size([100, 10])\n"
     ]
    }
   ],
   "source": [
    "iter_test = 0\n",
    "for images, labels in test_loader:\n",
    "    iter_test += 1\n",
    "    images = Variable(images.view(-1, 28*28))\n",
    "    outputs = model(images)\n",
    "    if iter_test == 1:\n",
    "        print('OUTPUTS')\n",
    "        print(outputs.size())\n",
    "    _, predicted = torch.max(outputs.data, 1)"
   ]
  },
  {
   "cell_type": "code",
   "execution_count": 110,
   "metadata": {},
   "outputs": [
    {
     "name": "stdout",
     "output_type": "stream",
     "text": [
      "OUTPUTS\n",
      "tensor([-0.1498, -1.2057, -0.2457, -0.2752,  0.0316, -0.3409, -0.9354,\n",
      "         2.8128, -0.2957,  0.8260])\n"
     ]
    }
   ],
   "source": [
    "iter_test = 0\n",
    "for images, labels in test_loader:\n",
    "    iter_test += 1\n",
    "    images = Variable(images.view(-1, 28*28))\n",
    "    outputs = model(images)\n",
    "    if iter_test == 1:\n",
    "        print('OUTPUTS')\n",
    "        print(outputs[0, :])\n",
    "    _, predicted = torch.max(outputs.data, 1)"
   ]
  },
  {
   "cell_type": "code",
   "execution_count": 111,
   "metadata": {},
   "outputs": [
    {
     "name": "stdout",
     "output_type": "stream",
     "text": [
      "PREDICTION\n",
      "torch.Size([100])\n"
     ]
    }
   ],
   "source": [
    "iter_test = 0\n",
    "for images, labels in test_loader:\n",
    "    iter_test += 1\n",
    "    images = Variable(images.view(-1, 28*28))\n",
    "    outputs = model(images)\n",
    "    _, predicted = torch.max(outputs.data, 1)\n",
    "    if iter_test == 1:\n",
    "        print('PREDICTION')\n",
    "        print(predicted.size())"
   ]
  },
  {
   "cell_type": "code",
   "execution_count": 112,
   "metadata": {},
   "outputs": [
    {
     "name": "stdout",
     "output_type": "stream",
     "text": [
      "PREDICTION\n",
      "tensor(7)\n"
     ]
    }
   ],
   "source": [
    "iter_test = 0\n",
    "for images, labels in test_loader:\n",
    "    iter_test += 1\n",
    "    images = Variable(images.view(-1, 28*28))\n",
    "    outputs = model(images)\n",
    "    _, predicted = torch.max(outputs.data, 1)\n",
    "    if iter_test == 1:\n",
    "        print('PREDICTION')\n",
    "        print(predicted[0])"
   ]
  },
  {
   "cell_type": "code",
   "execution_count": 113,
   "metadata": {},
   "outputs": [
    {
     "name": "stdout",
     "output_type": "stream",
     "text": [
      "PREDICTION\n",
      "tensor(7)\n",
      "LABEL SIZE\n",
      "torch.Size([100])\n",
      "LABEL FOR IMAGE 0\n",
      "tensor(7)\n"
     ]
    }
   ],
   "source": [
    "iter_test = 0\n",
    "for images, labels in test_loader:\n",
    "    iter_test += 1\n",
    "    images = Variable(images.view(-1, 28*28))\n",
    "    outputs = model(images)\n",
    "    _, predicted = torch.max(outputs.data, 1)\n",
    "    if iter_test == 1:\n",
    "        print('PREDICTION')\n",
    "        print(predicted[0])\n",
    "        \n",
    "        print('LABEL SIZE')\n",
    "        print(labels.size())\n",
    "        \n",
    "        print('LABEL FOR IMAGE 0')\n",
    "        print(labels[0])"
   ]
  },
  {
   "cell_type": "code",
   "execution_count": 114,
   "metadata": {},
   "outputs": [
    {
     "name": "stdout",
     "output_type": "stream",
     "text": [
      "PREDICTION\n",
      "tensor(2)\n",
      "LABEL SIZE\n",
      "torch.Size([100])\n",
      "LABEL FOR IMAGE 1\n",
      "tensor(2)\n"
     ]
    }
   ],
   "source": [
    "iter_test = 0\n",
    "for images, labels in test_loader:\n",
    "    iter_test += 1\n",
    "    images = Variable(images.view(-1, 28*28))\n",
    "    outputs = model(images)\n",
    "    _, predicted = torch.max(outputs.data, 1)\n",
    "    if iter_test == 1:\n",
    "        print('PREDICTION')\n",
    "        print(predicted[1])\n",
    "        \n",
    "        print('LABEL SIZE')\n",
    "        print(labels.size())\n",
    "        \n",
    "        print('LABEL FOR IMAGE 1')\n",
    "        print(labels[1])"
   ]
  },
  {
   "cell_type": "code",
   "execution_count": 128,
   "metadata": {},
   "outputs": [
    {
     "name": "stdout",
     "output_type": "stream",
     "text": [
      "tensor(82.7700)\n"
     ]
    }
   ],
   "source": [
    "correct = 0\n",
    "total = 0\n",
    "iter_test = 0\n",
    "for images, labels in test_loader:\n",
    "    iter_test += 1\n",
    "    images = Variable(images.view(-1, 28*28))\n",
    "    outputs = model(images)\n",
    "    _, predicted = torch.max(outputs.data, 1)\n",
    "    \n",
    "    # Total number of labels\n",
    "    total += labels.size(0)\n",
    "    \n",
    "    # Total correct predictions\n",
    "    correct += (predicted == labels).sum()\n",
    "\n",
    "accuracy = 100 * (correct.float() / total)\n",
    "\n",
    "print(accuracy)"
   ]
  },
  {
   "cell_type": "code",
   "execution_count": 129,
   "metadata": {},
   "outputs": [
    {
     "name": "stdout",
     "output_type": "stream",
     "text": [
      "[1. 1. 1. 1. 1. 1. 1. 1. 1. 1.]\n",
      "[1. 1. 1. 1. 1. 1. 1. 1. 1. 1.]\n",
      "[ True  True  True  True  True  True  True  True  True  True]\n",
      "10\n"
     ]
    }
   ],
   "source": [
    "# Explaining .sum() python built-in function\n",
    "# correct += (predicted == labels).sum()\n",
    "import numpy as np\n",
    "a = np.ones((10))\n",
    "print(a)\n",
    "b = np.ones((10))\n",
    "print(b)\n",
    "\n",
    "print(a == b)\n",
    "print((a == b).sum())"
   ]
  },
  {
   "cell_type": "code",
   "execution_count": 130,
   "metadata": {},
   "outputs": [],
   "source": [
    "save_model = False\n",
    "if save_model is True:\n",
    "    # Saves only parameters\n",
    "    torch.save(model.state_dict(), 'awesome_model.pkl')"
   ]
  },
  {
   "cell_type": "markdown",
   "metadata": {},
   "source": [
    "# Logistic Regression From CPU to GPU in PyTorch"
   ]
  },
  {
   "cell_type": "code",
   "execution_count": 134,
   "metadata": {},
   "outputs": [
    {
     "name": "stderr",
     "output_type": "stream",
     "text": [
      "/Users/robertlowe/anaconda3/lib/python3.6/site-packages/ipykernel_launcher.py:122: UserWarning: invalid index of a 0-dim tensor. This will be an error in PyTorch 0.5. Use tensor.item() to convert a 0-dim tensor to a Python number\n"
     ]
    },
    {
     "name": "stdout",
     "output_type": "stream",
     "text": [
      "Iteration: 500. Loss: 1.8378840684890747. Accuracy: 67\n",
      "Iteration: 1000. Loss: 1.5701603889465332. Accuracy: 76\n",
      "Iteration: 1500. Loss: 1.272912859916687. Accuracy: 79\n",
      "Iteration: 2000. Loss: 1.2348849773406982. Accuracy: 81\n",
      "Iteration: 2500. Loss: 1.0177912712097168. Accuracy: 82\n",
      "Iteration: 3000. Loss: 1.0379127264022827. Accuracy: 83\n"
     ]
    }
   ],
   "source": [
    "import torch\n",
    "import torch.nn as nn\n",
    "import torchvision.transforms as transforms\n",
    "import torchvision.datasets as dsets\n",
    "from torch.autograd import Variable\n",
    "\n",
    "'''\n",
    "STEP 1: LOADING DATASET\n",
    "'''\n",
    "\n",
    "train_dataset = dsets.MNIST(root='./data',\n",
    "                            train=True,\n",
    "                            transform=transforms.ToTensor(),\n",
    "                            download=True)\n",
    "\n",
    "test_dataset = dsets.MNIST(root='./data',\n",
    "                           train=False,\n",
    "                           transform=transforms.ToTensor())\n",
    "\n",
    "'''\n",
    "STEP 2: MAKING DATASET ITERABLE\n",
    "'''\n",
    "\n",
    "batch_size = 100\n",
    "n_iters = 3000\n",
    "num_epochs = n_iters / (len(train_dataset) / batch_size)\n",
    "num_epochs = int(num_epochs)\n",
    "\n",
    "train_loader = torch.utils.data.DataLoader(dataset=train_dataset,\n",
    "                                           batch_size=batch_size,\n",
    "                                           shuffle=True)\n",
    "\n",
    "test_loader = torch.utils.data.DataLoader(dataset=test_dataset,\n",
    "                                          batch_size=batch_size,\n",
    "                                          shuffle=False)\n",
    "\n",
    "'''\n",
    "STEP 3: CREATE MODEL CLASS\n",
    "'''\n",
    "class LogisticRegressionModel(nn.Module):\n",
    "    def __init__(self, input_size, num_classes):\n",
    "        super(LogisticRegressionModel, self).__init__()\n",
    "        self.linear = nn.Linear(input_dim, output_dim)\n",
    "    \n",
    "    def forward(self, x):\n",
    "        out = self.linear(x)\n",
    "        return out\n",
    "\n",
    "'''\n",
    "STEP 4: INSTANTIATE MODEL CLASS\n",
    "'''\n",
    "input_dim = 28*28\n",
    "output_dim = 10\n",
    "\n",
    "model = LogisticRegressionModel(input_dim, output_dim)\n",
    "\n",
    "'''\n",
    "STEP 5: INSTANTIATE LOSS CLASS\n",
    "'''\n",
    "criterion = nn.CrossEntropyLoss()\n",
    "\n",
    "\n",
    "'''\n",
    "STEP 6: INSTANTIATE OPTIMIZER CLASS\n",
    "'''\n",
    "learning_rate = 0.001\n",
    "\n",
    "optimizer = torch.optim.SGD(model.parameters(), lr=learning_rate)\n",
    "\n",
    "'''\n",
    "STEP 7: TRAIN THE MODEL\n",
    "'''\n",
    "iter = 0\n",
    "for epoch in range(num_epochs):\n",
    "    for i, (images, labels) in enumerate(train_loader):\n",
    "        # Load images as Variable\n",
    "        images = Variable(images.view(-1, 28*28))\n",
    "        labels = Variable(labels)\n",
    "        \n",
    "        # Clear labels w.r.t. parameters\n",
    "        optimizer.zero_grad()\n",
    "        \n",
    "        # Forward pass to get output/logits\n",
    "        # 100 x 10\n",
    "        outputs = model(images)\n",
    "        \n",
    "        # Calculate Loss: softmax --> cross entropy loss\n",
    "        loss = criterion(outputs, labels)\n",
    "        \n",
    "        # Getting gradients w.r.t. parameters\n",
    "        loss.backward()\n",
    "        \n",
    "        # Updating parameters\n",
    "        optimizer.step()\n",
    "        \n",
    "        iter += 1\n",
    "        \n",
    "        if iter % 500 == 0:\n",
    "            # Calculate Accuracy\n",
    "            correct = 0\n",
    "            total = 0\n",
    "            # Iterate through test dataset\n",
    "            for images, labels in test_loader:\n",
    "                # Load images to a Torch Variable\n",
    "                images = Variable(images.view(-1, 28*28))\n",
    "                \n",
    "                # Forward pass only to get logits/output\n",
    "                outputs = model(images)\n",
    "                \n",
    "                # Get predictions from the maximum value\n",
    "                # 100 x 1\n",
    "                _, predicted = torch.max(outputs.data, 1)\n",
    "                \n",
    "                # Total number of labels\n",
    "                total += labels.size(0)\n",
    "                \n",
    "                # Total correct predictions\n",
    "                correct += (predicted == labels).sum()\n",
    "            \n",
    "            accuracy = 100 * correct / total\n",
    "            \n",
    "            # Print Loss\n",
    "            print('Iteration: {}. Loss: {}. Accuracy: {}'.format(iter, loss.data[0], accuracy))"
   ]
  },
  {
   "cell_type": "code",
   "execution_count": 135,
   "metadata": {},
   "outputs": [
    {
     "name": "stderr",
     "output_type": "stream",
     "text": [
      "/Users/robertlowe/anaconda3/lib/python3.6/site-packages/ipykernel_launcher.py:148: UserWarning: invalid index of a 0-dim tensor. This will be an error in PyTorch 0.5. Use tensor.item() to convert a 0-dim tensor to a Python number\n"
     ]
    },
    {
     "name": "stdout",
     "output_type": "stream",
     "text": [
      "Iteration: 500. Loss: 1.8260910511016846. Accuracy: 67\n",
      "Iteration: 1000. Loss: 1.569441318511963. Accuracy: 76\n",
      "Iteration: 1500. Loss: 1.368066668510437. Accuracy: 79\n",
      "Iteration: 2000. Loss: 1.2118674516677856. Accuracy: 81\n",
      "Iteration: 2500. Loss: 1.0456759929656982. Accuracy: 82\n",
      "Iteration: 3000. Loss: 1.004968523979187. Accuracy: 83\n"
     ]
    }
   ],
   "source": [
    "import torch\n",
    "import torch.nn as nn\n",
    "import torchvision.transforms as transforms\n",
    "import torchvision.datasets as dsets\n",
    "from torch.autograd import Variable\n",
    "\n",
    "'''\n",
    "STEP 1: LOADING DATASET\n",
    "'''\n",
    "\n",
    "train_dataset = dsets.MNIST(root='./data',\n",
    "                            train=True,\n",
    "                            transform=transforms.ToTensor(),\n",
    "                            download=True)\n",
    "\n",
    "test_dataset = dsets.MNIST(root='./data',\n",
    "                           train=False,\n",
    "                           transform=transforms.ToTensor())\n",
    "\n",
    "'''\n",
    "STEP 2: MAKING DATASET ITERABLE\n",
    "'''\n",
    "\n",
    "batch_size = 100\n",
    "n_iters = 3000\n",
    "num_epochs = n_iters / (len(train_dataset) / batch_size)\n",
    "num_epochs = int(num_epochs)\n",
    "\n",
    "train_loader = torch.utils.data.DataLoader(dataset=train_dataset,\n",
    "                                           batch_size=batch_size,\n",
    "                                           shuffle=True)\n",
    "\n",
    "test_loader = torch.utils.data.DataLoader(dataset=test_dataset,\n",
    "                                          batch_size=batch_size,\n",
    "                                          shuffle=False)\n",
    "\n",
    "'''\n",
    "STEP 3: CREATE MODEL CLASS\n",
    "'''\n",
    "class LogisticRegressionModel(nn.Module):\n",
    "    def __init__(self, input_size, num_classes):\n",
    "        super(LogisticRegressionModel, self).__init__()\n",
    "        self.linear = nn.Linear(input_dim, output_dim)\n",
    "    \n",
    "    def forward(self, x):\n",
    "        out = self.linear(x)\n",
    "        return out\n",
    "\n",
    "'''\n",
    "STEP 4: INSTANTIATE MODEL CLASS\n",
    "'''\n",
    "input_dim = 28*28\n",
    "output_dim = 10\n",
    "\n",
    "model = LogisticRegressionModel(input_dim, output_dim)\n",
    "\n",
    "#######################\n",
    "#  USE GPU FOR MODEL  #\n",
    "#######################\n",
    "\n",
    "if torch.cuda.is_available():\n",
    "    model.cuda()\n",
    "\n",
    "'''\n",
    "STEP 5: INSTANTIATE LOSS CLASS\n",
    "'''\n",
    "criterion = nn.CrossEntropyLoss()\n",
    "\n",
    "\n",
    "'''\n",
    "STEP 6: INSTANTIATE OPTIMIZER CLASS\n",
    "'''\n",
    "learning_rate = 0.001\n",
    "\n",
    "optimizer = torch.optim.SGD(model.parameters(), lr=learning_rate)\n",
    "\n",
    "'''\n",
    "STEP 7: TRAIN THE MODEL\n",
    "'''\n",
    "iter = 0\n",
    "for epoch in range(num_epochs):\n",
    "    for i, (images, labels) in enumerate(train_loader):\n",
    "        \n",
    "        #######################\n",
    "        #  USE GPU FOR MODEL  #\n",
    "        #######################\n",
    "        if torch.cuda.is_available():\n",
    "            images = Variable(images.view(-1, 28*28).cuda())\n",
    "            labels = Variable(labels.cuda())\n",
    "        else:\n",
    "            images = Variable(images.view(-1, 28*28))\n",
    "            labels = Variable(labels)\n",
    "        \n",
    "        # Clear labels w.r.t. parameters\n",
    "        optimizer.zero_grad()\n",
    "        \n",
    "        # Forward pass to get output/logits\n",
    "        # 100 x 10\n",
    "        outputs = model(images)\n",
    "        \n",
    "        # Calculate Loss: softmax --> cross entropy loss\n",
    "        loss = criterion(outputs, labels)\n",
    "        \n",
    "        # Getting gradients w.r.t. parameters\n",
    "        loss.backward()\n",
    "        \n",
    "        # Updating parameters\n",
    "        optimizer.step()\n",
    "        \n",
    "        iter += 1\n",
    "        \n",
    "        if iter % 500 == 0:\n",
    "            # Calculate Accuracy\n",
    "            correct = 0\n",
    "            total = 0\n",
    "            # Iterate through test dataset\n",
    "            for images, labels in test_loader:\n",
    "                #######################\n",
    "                #  USE GPU FOR MODEL  #\n",
    "                #######################\n",
    "                if torch.cuda.is_available():\n",
    "                    images = Variable(images.view(-1, 28*28).cuda())\n",
    "                else:\n",
    "                    images = Variable(images.view(-1, 28*28))\n",
    "                \n",
    "                # Forward pass only to get logits/output\n",
    "                outputs = model(images)\n",
    "                \n",
    "                # Get predictions from the maximum value\n",
    "                # 100 x 1\n",
    "                _, predicted = torch.max(outputs.data, 1)\n",
    "                \n",
    "                # Total number of labels\n",
    "                total += labels.size(0)\n",
    "                \n",
    "                #######################\n",
    "                #  USE GPU FOR MODEL  #\n",
    "                #######################\n",
    "                # Total correct predictions\n",
    "                if torch.cuda.is_available():\n",
    "                    correct += (predicted.cpu() == labels.cpu()).sum()\n",
    "                else:\n",
    "                    correct += (predicted == labels).sum()\n",
    "            \n",
    "            accuracy = 100 * correct / total\n",
    "            \n",
    "            # Print Loss\n",
    "            print('Iteration: {}. Loss: {}. Accuracy: {}'.format(iter, loss.data[0], accuracy))"
   ]
  },
  {
   "cell_type": "code",
   "execution_count": null,
   "metadata": {},
   "outputs": [],
   "source": []
  }
 ],
 "metadata": {
  "kernelspec": {
   "display_name": "Python 3",
   "language": "python",
   "name": "python3"
  },
  "language_info": {
   "codemirror_mode": {
    "name": "ipython",
    "version": 3
   },
   "file_extension": ".py",
   "mimetype": "text/x-python",
   "name": "python",
   "nbconvert_exporter": "python",
   "pygments_lexer": "ipython3",
   "version": "3.6.5"
  }
 },
 "nbformat": 4,
 "nbformat_minor": 2
}
