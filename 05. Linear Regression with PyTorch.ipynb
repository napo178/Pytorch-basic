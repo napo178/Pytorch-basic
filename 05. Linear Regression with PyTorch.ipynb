{
 "cells": [
  {
   "cell_type": "markdown",
   "metadata": {},
   "source": [
    "# Linear Regression Introduction"
   ]
  },
  {
   "cell_type": "code",
   "execution_count": 2,
   "metadata": {},
   "outputs": [
    {
     "data": {
      "image/png": "[encoded data removed]",
      "text/plain": [
       "<Figure size 432x288 with 1 Axes>"
      ]
     },
     "metadata": {},
     "output_type": "display_data"
    }
   ],
   "source": [
    "import numpy as np\n",
    "import matplotlib.pyplot as plt\n",
    "\n",
    "np.random.seed(1)\n",
    "n = 50\n",
    "x = np.random.randn(n)\n",
    "y = x * np.random.randn(n)\n",
    "\n",
    "colors = np.random.randn(n)\n",
    "plt.plot(np.unique(x), np.poly1d(np.polyfit(x, y, 1))(np.unique(x)))\n",
    "\n",
    "plt.scatter(x, y, c=colors, alpha=0.5)\n",
    "plt.show()"
   ]
  },
  {
   "cell_type": "markdown",
   "metadata": {},
   "source": [
    "# Linear Regression in PyTorch"
   ]
  },
  {
   "cell_type": "code",
   "execution_count": 3,
   "metadata": {},
   "outputs": [],
   "source": [
    "x_values = [i for i in range(11)]"
   ]
  },
  {
   "cell_type": "code",
   "execution_count": 5,
   "metadata": {},
   "outputs": [
    {
     "data": {
      "text/plain": [
       "[0, 1, 2, 3, 4, 5, 6, 7, 8, 9, 10]"
      ]
     },
     "execution_count": 5,
     "metadata": {},
     "output_type": "execute_result"
    }
   ],
   "source": [
    "x_values"
   ]
  },
  {
   "cell_type": "code",
   "execution_count": 7,
   "metadata": {},
   "outputs": [
    {
     "data": {
      "text/plain": [
       "(11,)"
      ]
     },
     "execution_count": 7,
     "metadata": {},
     "output_type": "execute_result"
    }
   ],
   "source": [
    "# Convert to numpy\n",
    "x_train = np.array(x_values, dtype=np.float32)\n",
    "x_train.shape"
   ]
  },
  {
   "cell_type": "code",
   "execution_count": 8,
   "metadata": {},
   "outputs": [
    {
     "data": {
      "text/plain": [
       "(11, 1)"
      ]
     },
     "execution_count": 8,
     "metadata": {},
     "output_type": "execute_result"
    }
   ],
   "source": [
    "# IMPORTANT: 2D required\n",
    "x_train = x_train.reshape(-1, 1)\n",
    "x_train.shape"
   ]
  },
  {
   "cell_type": "code",
   "execution_count": 9,
   "metadata": {},
   "outputs": [],
   "source": [
    "y_values = [2*i + 1 for i in x_values]"
   ]
  },
  {
   "cell_type": "code",
   "execution_count": 10,
   "metadata": {},
   "outputs": [
    {
     "data": {
      "text/plain": [
       "[1, 3, 5, 7, 9, 11, 13, 15, 17, 19, 21]"
      ]
     },
     "execution_count": 10,
     "metadata": {},
     "output_type": "execute_result"
    }
   ],
   "source": [
    "y_values"
   ]
  },
  {
   "cell_type": "code",
   "execution_count": 11,
   "metadata": {},
   "outputs": [],
   "source": [
    "# In case you're weak in list iterators...\n",
    "y_values = []\n",
    "for i in x_values:\n",
    "    result = 2*i + 1\n",
    "    y_values.append(result)"
   ]
  },
  {
   "cell_type": "code",
   "execution_count": 12,
   "metadata": {},
   "outputs": [
    {
     "data": {
      "text/plain": [
       "[1, 3, 5, 7, 9, 11, 13, 15, 17, 19, 21]"
      ]
     },
     "execution_count": 12,
     "metadata": {},
     "output_type": "execute_result"
    }
   ],
   "source": [
    "y_values"
   ]
  },
  {
   "cell_type": "code",
   "execution_count": 13,
   "metadata": {},
   "outputs": [
    {
     "data": {
      "text/plain": [
       "(11,)"
      ]
     },
     "execution_count": 13,
     "metadata": {},
     "output_type": "execute_result"
    }
   ],
   "source": [
    "y_train = np.array(y_values, dtype=np.float32)\n",
    "y_train.shape"
   ]
  },
  {
   "cell_type": "code",
   "execution_count": 15,
   "metadata": {},
   "outputs": [
    {
     "data": {
      "text/plain": [
       "(11, 1)"
      ]
     },
     "execution_count": 15,
     "metadata": {},
     "output_type": "execute_result"
    }
   ],
   "source": [
    "# IMPORTANT: 2D required\n",
    "y_train = y_train.reshape(-1, 1)\n",
    "y_train.shape"
   ]
  },
  {
   "cell_type": "code",
   "execution_count": 16,
   "metadata": {},
   "outputs": [],
   "source": [
    "import torch\n",
    "import torch.nn as nn\n",
    "from torch.autograd import Variable"
   ]
  },
  {
   "cell_type": "code",
   "execution_count": 17,
   "metadata": {},
   "outputs": [],
   "source": [
    "# Create class\n",
    "class LinearRegressionModel(nn.Module):\n",
    "    def __init__(self, input_size, output_size):\n",
    "        super(LinearRegressionModel, self).__init__()\n",
    "        self.linear = nn.Linear(input_dim, output_dim)\n",
    "        \n",
    "    def forward(self, x):\n",
    "        out = self.linear(x)\n",
    "        return out"
   ]
  },
  {
   "cell_type": "code",
   "execution_count": 18,
   "metadata": {},
   "outputs": [],
   "source": [
    "input_dim = 1\n",
    "output_dim = 1\n",
    "\n",
    "model = LinearRegressionModel(input_dim, output_dim)"
   ]
  },
  {
   "cell_type": "code",
   "execution_count": 19,
   "metadata": {},
   "outputs": [],
   "source": [
    "criterion = nn.MSELoss()"
   ]
  },
  {
   "cell_type": "code",
   "execution_count": 20,
   "metadata": {},
   "outputs": [],
   "source": [
    "learning_rate = 0.01\n",
    "\n",
    "optimizer = torch.optim.SGD(model.parameters(), lr=learning_rate)"
   ]
  },
  {
   "cell_type": "code",
   "execution_count": 21,
   "metadata": {},
   "outputs": [],
   "source": [
    "epochs = 100"
   ]
  },
  {
   "cell_type": "code",
   "execution_count": 22,
   "metadata": {},
   "outputs": [
    {
     "name": "stdout",
     "output_type": "stream",
     "text": [
      "epoch 1, loss 98.76132202148438\n",
      "epoch 2, loss 8.190764427185059\n",
      "epoch 3, loss 0.8017014861106873\n",
      "epoch 4, loss 0.19750794768333435\n",
      "epoch 5, loss 0.14675039052963257\n",
      "epoch 6, loss 0.1411513090133667\n",
      "epoch 7, loss 0.1392521858215332\n",
      "epoch 8, loss 0.13767081499099731\n",
      "epoch 9, loss 0.13613128662109375\n",
      "epoch 10, loss 0.1346108466386795\n",
      "epoch 11, loss 0.13310779631137848\n",
      "epoch 12, loss 0.1316213756799698\n",
      "epoch 13, loss 0.13015152513980865\n",
      "epoch 14, loss 0.12869806587696075\n",
      "epoch 15, loss 0.1272609382867813\n",
      "epoch 16, loss 0.12583981454372406\n",
      "epoch 17, loss 0.12443461269140244\n",
      "epoch 18, loss 0.12304505705833435\n",
      "epoch 19, loss 0.12167112529277802\n",
      "epoch 20, loss 0.12031235545873642\n",
      "epoch 21, loss 0.11896887421607971\n",
      "epoch 22, loss 0.11764038354158401\n",
      "epoch 23, loss 0.11632683128118515\n",
      "epoch 24, loss 0.11502780765295029\n",
      "epoch 25, loss 0.11374320834875107\n",
      "epoch 26, loss 0.11247312277555466\n",
      "epoch 27, loss 0.11121711879968643\n",
      "epoch 28, loss 0.1099751889705658\n",
      "epoch 29, loss 0.1087469756603241\n",
      "epoch 30, loss 0.10753273963928223\n",
      "epoch 31, loss 0.10633189231157303\n",
      "epoch 32, loss 0.10514455288648605\n",
      "epoch 33, loss 0.10397026687860489\n",
      "epoch 34, loss 0.10280924290418625\n",
      "epoch 35, loss 0.10166136920452118\n",
      "epoch 36, loss 0.10052614659070969\n",
      "epoch 37, loss 0.09940353035926819\n",
      "epoch 38, loss 0.09829340130090714\n",
      "epoch 39, loss 0.09719590842723846\n",
      "epoch 40, loss 0.09611057490110397\n",
      "epoch 41, loss 0.09503716975450516\n",
      "epoch 42, loss 0.0939759761095047\n",
      "epoch 43, loss 0.09292662888765335\n",
      "epoch 44, loss 0.091888926923275\n",
      "epoch 45, loss 0.09086266905069351\n",
      "epoch 46, loss 0.08984790742397308\n",
      "epoch 47, loss 0.08884478360414505\n",
      "epoch 48, loss 0.08785257488489151\n",
      "epoch 49, loss 0.08687155693769455\n",
      "epoch 50, loss 0.08590161055326462\n",
      "epoch 51, loss 0.08494221419095993\n",
      "epoch 52, loss 0.0839938372373581\n",
      "epoch 53, loss 0.0830557569861412\n",
      "epoch 54, loss 0.08212833851575851\n",
      "epoch 55, loss 0.08121106773614883\n",
      "epoch 56, loss 0.08030421286821365\n",
      "epoch 57, loss 0.07940752059221268\n",
      "epoch 58, loss 0.07852083444595337\n",
      "epoch 59, loss 0.07764400541782379\n",
      "epoch 60, loss 0.07677697390317917\n",
      "epoch 61, loss 0.07591965794563293\n",
      "epoch 62, loss 0.07507193833589554\n",
      "epoch 63, loss 0.07423347234725952\n",
      "epoch 64, loss 0.07340443134307861\n",
      "epoch 65, loss 0.0725848376750946\n",
      "epoch 66, loss 0.07177437096834183\n",
      "epoch 67, loss 0.07097282260656357\n",
      "epoch 68, loss 0.07018032670021057\n",
      "epoch 69, loss 0.06939665228128433\n",
      "epoch 70, loss 0.0686216801404953\n",
      "epoch 71, loss 0.06785541772842407\n",
      "epoch 72, loss 0.06709765642881393\n",
      "epoch 73, loss 0.06634846329689026\n",
      "epoch 74, loss 0.06560740619897842\n",
      "epoch 75, loss 0.0648748129606247\n",
      "epoch 76, loss 0.06415024399757385\n",
      "epoch 77, loss 0.06343398988246918\n",
      "epoch 78, loss 0.06272559612989426\n",
      "epoch 79, loss 0.06202519312500954\n",
      "epoch 80, loss 0.061332475394010544\n",
      "epoch 81, loss 0.060647618025541306\n",
      "epoch 82, loss 0.05997041240334511\n",
      "epoch 83, loss 0.05930081382393837\n",
      "epoch 84, loss 0.05863859876990318\n",
      "epoch 85, loss 0.05798384174704552\n",
      "epoch 86, loss 0.0573362335562706\n",
      "epoch 87, loss 0.056696001440286636\n",
      "epoch 88, loss 0.056062761694192886\n",
      "epoch 89, loss 0.0554368756711483\n",
      "epoch 90, loss 0.05481787025928497\n",
      "epoch 91, loss 0.05420557036995888\n",
      "epoch 92, loss 0.053600311279296875\n",
      "epoch 93, loss 0.05300172418355942\n",
      "epoch 94, loss 0.05240988731384277\n",
      "epoch 95, loss 0.051824722439050674\n",
      "epoch 96, loss 0.05124596506357193\n",
      "epoch 97, loss 0.05067368596792221\n",
      "epoch 98, loss 0.050107840448617935\n",
      "epoch 99, loss 0.04954824596643448\n",
      "epoch 100, loss 0.0489950068295002\n"
     ]
    },
    {
     "name": "stderr",
     "output_type": "stream",
     "text": [
      "/Users/robertlowe/anaconda3/lib/python3.6/site-packages/ipykernel_launcher.py:22: UserWarning: invalid index of a 0-dim tensor. This will be an error in PyTorch 0.5. Use tensor.item() to convert a 0-dim tensor to a Python number\n"
     ]
    }
   ],
   "source": [
    "for epoch in range(epochs):\n",
    "    epoch += 1\n",
    "    # Convert numpy array to torch Variable\n",
    "    inputs = Variable(torch.from_numpy(x_train))\n",
    "    labels = Variable(torch.from_numpy(y_train))\n",
    "    \n",
    "    # Clear gradients w.r.t. parameters\n",
    "    optimizer.zero_grad()\n",
    "    \n",
    "    # Forward to get output\n",
    "    outputs = model(inputs)\n",
    "    \n",
    "    # Calculate Loss\n",
    "    loss = criterion(outputs, labels)\n",
    "    \n",
    "    # Getting gradients w.r.t. parameters\n",
    "    loss.backward()\n",
    "    \n",
    "    # Updating parameters\n",
    "    optimizer.step()\n",
    "    \n",
    "    print('epoch {}, loss {}'.format(epoch, loss.data[0]))"
   ]
  },
  {
   "cell_type": "code",
   "execution_count": 23,
   "metadata": {},
   "outputs": [
    {
     "data": {
      "text/plain": [
       "array([[ 0.58824766],\n",
       "       [ 2.647544  ],\n",
       "       [ 4.70684   ],\n",
       "       [ 6.766136  ],\n",
       "       [ 8.825432  ],\n",
       "       [10.8847275 ],\n",
       "       [12.944024  ],\n",
       "       [15.003321  ],\n",
       "       [17.062616  ],\n",
       "       [19.121912  ],\n",
       "       [21.181208  ]], dtype=float32)"
      ]
     },
     "execution_count": 23,
     "metadata": {},
     "output_type": "execute_result"
    }
   ],
   "source": [
    "# Purely inference\n",
    "predicted = model(Variable(torch.from_numpy(x_train))).data.numpy()\n",
    "predicted"
   ]
  },
  {
   "cell_type": "code",
   "execution_count": 24,
   "metadata": {},
   "outputs": [
    {
     "data": {
      "text/plain": [
       "array([[ 1.],\n",
       "       [ 3.],\n",
       "       [ 5.],\n",
       "       [ 7.],\n",
       "       [ 9.],\n",
       "       [11.],\n",
       "       [13.],\n",
       "       [15.],\n",
       "       [17.],\n",
       "       [19.],\n",
       "       [21.]], dtype=float32)"
      ]
     },
     "execution_count": 24,
     "metadata": {},
     "output_type": "execute_result"
    }
   ],
   "source": [
    "# y = 2x + 1\n",
    "y_train"
   ]
  },
  {
   "cell_type": "code",
   "execution_count": 25,
   "metadata": {},
   "outputs": [
    {
     "data": {
      "image/png": "[encoded data removed]",
      "text/plain": [
       "<Figure size 432x288 with 1 Axes>"
      ]
     },
     "metadata": {},
     "output_type": "display_data"
    }
   ],
   "source": [
    "# Clear figure\n",
    "plt.clf()\n",
    "\n",
    "# Get predictions\n",
    "predicted = model(Variable(torch.from_numpy(x_train))).data.numpy()\n",
    "\n",
    "# Plot true data\n",
    "plt.plot(x_train, y_train, 'go', label='True data', alpha=0.5)\n",
    "\n",
    "# Plot predictions\n",
    "plt.plot(x_train, predicted, '--', label='Predictions', alpha=0.5)\n",
    "\n",
    "# Legend and plot\n",
    "plt.legend(loc='best')\n",
    "plt.show()"
   ]
  },
  {
   "cell_type": "code",
   "execution_count": 27,
   "metadata": {},
   "outputs": [],
   "source": [
    "save_model = False\n",
    "if save_model is True:\n",
    "    # Saves only parameters\n",
    "    # alpha & beta\n",
    "    torch.save(model.state_dict(), 'awesome_model.pkl')"
   ]
  },
  {
   "cell_type": "code",
   "execution_count": 28,
   "metadata": {},
   "outputs": [],
   "source": [
    "load_model = False\n",
    "if load_model is True:\n",
    "    model.load_state_dict(torch.load('awesome_model.pkl'))"
   ]
  },
  {
   "cell_type": "markdown",
   "metadata": {},
   "source": [
    "# Linear Regression From CPU to GPU in PyTorch"
   ]
  },
  {
   "cell_type": "code",
   "execution_count": 29,
   "metadata": {},
   "outputs": [],
   "source": [
    "import torch\n",
    "import torch.nn as nn\n",
    "from torch.autograd import Variable\n",
    "\n",
    "'''\n",
    "STEP 1: CREATE MODEL CLASS\n",
    "'''\n",
    "class LinearRegressionModel(nn.Module):\n",
    "    def __init__(self, input_size, output_size):\n",
    "        super(LinearRegressionModel, self).__init__()\n",
    "        self.linear = nn.Linear(input_dim, output_dim)\n",
    "        \n",
    "    def forward(self, x):\n",
    "        out = self.linear(x)\n",
    "        return out\n",
    "    \n",
    "'''\n",
    "STEP 2: INSTANTIATE MODEL CLASS\n",
    "'''\n",
    "input_dim = 1\n",
    "output_dim = 1\n",
    "\n",
    "model = LinearRegressionModel(input_dim, output_dim)\n",
    "\n",
    "'''\n",
    "STEP 3: INSTANTIATE LOSS CLASS\n",
    "'''\n",
    "\n",
    "criterion = nn.MSELoss()\n",
    "\n",
    "'''\n",
    "STEP 4: INSTANTIATE OPTIMIZER CLASS\n",
    "'''\n",
    "\n",
    "learning_rate = 0.01\n",
    "\n",
    "optimizer = torch.optim.SGD(model.parameters(), lr=learning_rate)\n",
    "\n",
    "'''\n",
    "STEP 5: TRAIN THE MODEL\n",
    "'''\n",
    "epochs = 100\n",
    "for epoch in range(epochs):\n",
    "    epoch += 1\n",
    "    # Convert numpy array to torch Variable\n",
    "    inputs = Variable(torch.from_numpy(x_train))\n",
    "    labels = Variable(torch.from_numpy(y_train))\n",
    "    \n",
    "    # Clear gradients w.r.t. parameters\n",
    "    optimizer.zero_grad()\n",
    "    \n",
    "    # Forward to get output\n",
    "    outputs = model(inputs)\n",
    "    \n",
    "    # Calculate Loss\n",
    "    loss = criterion(outputs, labels)\n",
    "    \n",
    "    # Getting gradients w.r.t. parameters\n",
    "    loss.backward()\n",
    "    \n",
    "    # Updating parameters\n",
    "    optimizer.step()"
   ]
  },
  {
   "cell_type": "code",
   "execution_count": 30,
   "metadata": {},
   "outputs": [
    {
     "name": "stdout",
     "output_type": "stream",
     "text": [
      "epoch 1, loss 277.138671875\n",
      "epoch 2, loss 22.610790252685547\n",
      "epoch 3, loss 1.8496936559677124\n",
      "epoch 4, loss 0.15621532499790192\n",
      "epoch 5, loss 0.018024103716015816\n",
      "epoch 6, loss 0.006693154573440552\n",
      "epoch 7, loss 0.005710579454898834\n",
      "epoch 8, loss 0.00557277025654912\n",
      "epoch 9, loss 0.005504520144313574\n",
      "epoch 10, loss 0.005442566704005003\n",
      "epoch 11, loss 0.005381727125495672\n",
      "epoch 12, loss 0.005321620497852564\n",
      "epoch 13, loss 0.005262194201350212\n",
      "epoch 14, loss 0.005203415174037218\n",
      "epoch 15, loss 0.00514530623331666\n",
      "epoch 16, loss 0.005087857134640217\n",
      "epoch 17, loss 0.005031044594943523\n",
      "epoch 18, loss 0.0049748546443879604\n",
      "epoch 19, loss 0.00491931801661849\n",
      "epoch 20, loss 0.004864395130425692\n",
      "epoch 21, loss 0.004810063634067774\n",
      "epoch 22, loss 0.004756373353302479\n",
      "epoch 23, loss 0.004703204613178968\n",
      "epoch 24, loss 0.004650718066841364\n",
      "epoch 25, loss 0.00459879357367754\n",
      "epoch 26, loss 0.004547413904219866\n",
      "epoch 27, loss 0.004496620036661625\n",
      "epoch 28, loss 0.00444644084200263\n",
      "epoch 29, loss 0.004396797623485327\n",
      "epoch 30, loss 0.004347686655819416\n",
      "epoch 31, loss 0.0042991335503757\n",
      "epoch 32, loss 0.004251125734299421\n",
      "epoch 33, loss 0.004203652963042259\n",
      "epoch 34, loss 0.004156698938459158\n",
      "epoch 35, loss 0.004110277630388737\n",
      "epoch 36, loss 0.0040643783286213875\n",
      "epoch 37, loss 0.004018987994641066\n",
      "epoch 38, loss 0.0039741117507219315\n",
      "epoch 39, loss 0.0039297668263316154\n",
      "epoch 40, loss 0.0038858673069626093\n",
      "epoch 41, loss 0.0038424567319452763\n",
      "epoch 42, loss 0.003799570957198739\n",
      "epoch 43, loss 0.00375713431276381\n",
      "epoch 44, loss 0.003715198254212737\n",
      "epoch 45, loss 0.003673669183626771\n",
      "epoch 46, loss 0.003632671432569623\n",
      "epoch 47, loss 0.0035920923110097647\n",
      "epoch 48, loss 0.0035519867669790983\n",
      "epoch 49, loss 0.0035123431589454412\n",
      "epoch 50, loss 0.0034731158521026373\n",
      "epoch 51, loss 0.0034343271981924772\n",
      "epoch 52, loss 0.003395960433408618\n",
      "epoch 53, loss 0.0033580551389604807\n",
      "epoch 54, loss 0.0033205710351467133\n",
      "epoch 55, loss 0.003283456666395068\n",
      "epoch 56, loss 0.003246805164963007\n",
      "epoch 57, loss 0.003210565308108926\n",
      "epoch 58, loss 0.0031746819149702787\n",
      "epoch 59, loss 0.0031392357777804136\n",
      "epoch 60, loss 0.0031041777692735195\n",
      "epoch 61, loss 0.003069509519264102\n",
      "epoch 62, loss 0.0030352429021149874\n",
      "epoch 63, loss 0.0030013718642294407\n",
      "epoch 64, loss 0.002967848675325513\n",
      "epoch 65, loss 0.0029347038362175226\n",
      "epoch 66, loss 0.002901909640058875\n",
      "epoch 67, loss 0.002869521966204047\n",
      "epoch 68, loss 0.002837469568476081\n",
      "epoch 69, loss 0.0028058087918907404\n",
      "epoch 70, loss 0.002774475608021021\n",
      "epoch 71, loss 0.00274348771199584\n",
      "epoch 72, loss 0.0027128199581056833\n",
      "epoch 73, loss 0.002682540798559785\n",
      "epoch 74, loss 0.0026525927241891623\n",
      "epoch 75, loss 0.002622983418405056\n",
      "epoch 76, loss 0.0025936737656593323\n",
      "epoch 77, loss 0.0025647422298789024\n",
      "epoch 78, loss 0.0025361005682498217\n",
      "epoch 79, loss 0.0025077543687075377\n",
      "epoch 80, loss 0.00247974693775177\n",
      "epoch 81, loss 0.002452065236866474\n",
      "epoch 82, loss 0.0024247015826404095\n",
      "epoch 83, loss 0.002397616161033511\n",
      "epoch 84, loss 0.0023708236403763294\n",
      "epoch 85, loss 0.0023443461395800114\n",
      "epoch 86, loss 0.0023181738797575235\n",
      "epoch 87, loss 0.002292294055223465\n",
      "epoch 88, loss 0.002266709692776203\n",
      "epoch 89, loss 0.0022413888946175575\n",
      "epoch 90, loss 0.0022163556423038244\n",
      "epoch 91, loss 0.0021916122641414404\n",
      "epoch 92, loss 0.0021671412978321314\n",
      "epoch 93, loss 0.0021429231856018305\n",
      "epoch 94, loss 0.002118985168635845\n",
      "epoch 95, loss 0.0020953307393938303\n",
      "epoch 96, loss 0.002071951050311327\n",
      "epoch 97, loss 0.002048811409622431\n",
      "epoch 98, loss 0.0020259185694158077\n",
      "epoch 99, loss 0.0020032860338687897\n",
      "epoch 100, loss 0.0019809259101748466\n"
     ]
    },
    {
     "name": "stderr",
     "output_type": "stream",
     "text": [
      "/Users/robertlowe/anaconda3/lib/python3.6/site-packages/ipykernel_launcher.py:82: UserWarning: invalid index of a 0-dim tensor. This will be an error in PyTorch 0.5. Use tensor.item() to convert a 0-dim tensor to a Python number\n"
     ]
    }
   ],
   "source": [
    "import torch\n",
    "import torch.nn as nn\n",
    "from torch.autograd import Variable\n",
    "import numpy as np\n",
    "\n",
    "'''\n",
    "STEP 1: CREATE MODEL CLASS\n",
    "'''\n",
    "class LinearRegressionModel(nn.Module):\n",
    "    def __init__(self, input_size, output_size):\n",
    "        super(LinearRegressionModel, self).__init__()\n",
    "        self.linear = nn.Linear(input_dim, output_dim)\n",
    "        \n",
    "    def forward(self, x):\n",
    "        out = self.linear(x)\n",
    "        return out\n",
    "    \n",
    "'''\n",
    "STEP 2: INSTANTIATE MODEL CLASS\n",
    "'''\n",
    "input_dim = 1\n",
    "output_dim = 1\n",
    "\n",
    "model = LinearRegressionModel(input_dim, output_dim)\n",
    "\n",
    "\n",
    "#######################\n",
    "#  USE GPU FOR MODEL  #\n",
    "#######################\n",
    "\n",
    "if torch.cuda.is_available():\n",
    "    model.cuda()\n",
    "\n",
    "'''\n",
    "STEP 3: INSTANTIATE LOSS CLASS\n",
    "'''\n",
    "\n",
    "criterion = nn.MSELoss()\n",
    "\n",
    "'''\n",
    "STEP 4: INSTANTIATE OPTIMIZER CLASS\n",
    "'''\n",
    "\n",
    "learning_rate = 0.01\n",
    "\n",
    "optimizer = torch.optim.SGD(model.parameters(), lr=learning_rate)\n",
    "\n",
    "'''\n",
    "STEP 5: TRAIN THE MODEL\n",
    "'''\n",
    "epochs = 100\n",
    "for epoch in range(epochs):\n",
    "    epoch += 1\n",
    "    # Convert numpy array to torch Variable\n",
    "    \n",
    "    #######################\n",
    "    #  USE GPU FOR MODEL  #\n",
    "    #######################\n",
    "    if torch.cuda.is_available():\n",
    "        inputs = Variable(torch.from_numpy(x_train).cuda())\n",
    "        labels = Variable(torch.from_numpy(y_train).cuda())\n",
    "    else:\n",
    "        inputs = Variable(torch.from_numpy(x_train))\n",
    "        labels = Variable(torch.from_numpy(y_train))\n",
    "    \n",
    "    # Clear gradients w.r.t. parameters\n",
    "    optimizer.zero_grad()\n",
    "    \n",
    "    # Forward to get output\n",
    "    outputs = model(inputs)\n",
    "    \n",
    "    # Calculate Loss\n",
    "    loss = criterion(outputs, labels)\n",
    "    \n",
    "    # Getting gradients w.r.t. parameters\n",
    "    loss.backward()\n",
    "    \n",
    "    # Updating parameters\n",
    "    optimizer.step()\n",
    "    \n",
    "    # Logging\n",
    "    print('epoch {}, loss {}'.format(epoch, loss.data[0]))"
   ]
  },
  {
   "cell_type": "code",
   "execution_count": null,
   "metadata": {},
   "outputs": [],
   "source": []
  }
 ],
 "metadata": {
  "kernelspec": {
   "display_name": "Python 3",
   "language": "python",
   "name": "python3"
  },
  "language_info": {
   "codemirror_mode": {
    "name": "ipython",
    "version": 3
   },
   "file_extension": ".py",
   "mimetype": "text/x-python",
   "name": "python",
   "nbconvert_exporter": "python",
   "pygments_lexer": "ipython3",
   "version": "3.6.5"
  }
 },
 "nbformat": 4,
 "nbformat_minor": 2
}
